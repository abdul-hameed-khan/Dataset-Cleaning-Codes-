{
 "cells": [
  {
   "cell_type": "code",
   "execution_count": 22,
   "id": "legendary-yeast",
   "metadata": {},
   "outputs": [],
   "source": [
    "import pandas as pd\n",
    "import glob\n",
    "import os"
   ]
  },
  {
   "cell_type": "code",
   "execution_count": 26,
   "id": "unexpected-prague",
   "metadata": {},
   "outputs": [],
   "source": [
    "arr=[]\n",
    "lis=[]\n",
    "INPUT_PATH = 'Template_based_reply'\n",
    "for csv_filename in glob.glob(os.path.join(INPUT_PATH, \"*.csv\")):\n",
    "    df = pd.read_csv(csv_filename)\n",
    "    new_array=list(dict.fromkeys(df.replyContent))\n",
    "    for i in new_array:\n",
    "        count=0\n",
    "        for j in df.replyContent:\n",
    "            if i==j:\n",
    "                count=count+1\n",
    "        if count>10:\n",
    "            lis.append(i)\n",
    "            arr.append(count)\n"
   ]
  },
  {
   "cell_type": "code",
   "execution_count": 27,
   "id": "contained-morris",
   "metadata": {},
   "outputs": [],
   "source": [
    "d={'Sentences':lis,\n",
    "    'Frequency':arr}"
   ]
  },
  {
   "cell_type": "code",
   "execution_count": 28,
   "id": "first-knight",
   "metadata": {},
   "outputs": [],
   "source": [
    "frm = pd.DataFrame(d)\n",
    "frm.to_csv('Template_based_reply_similar_sentence.csv')"
   ]
  },
  {
   "cell_type": "code",
   "execution_count": null,
   "id": "compound-clinton",
   "metadata": {},
   "outputs": [],
   "source": []
  }
 ],
 "metadata": {
  "kernelspec": {
   "display_name": "Python 3",
   "language": "python",
   "name": "python3"
  },
  "language_info": {
   "codemirror_mode": {
    "name": "ipython",
    "version": 3
   },
   "file_extension": ".py",
   "mimetype": "text/x-python",
   "name": "python",
   "nbconvert_exporter": "python",
   "pygments_lexer": "ipython3",
   "version": "3.8.5"
  }
 },
 "nbformat": 4,
 "nbformat_minor": 5
}
