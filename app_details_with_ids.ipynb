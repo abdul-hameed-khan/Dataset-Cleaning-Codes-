{
 "cells": [
  {
   "cell_type": "code",
   "execution_count": 1,
   "id": "4d05856f",
   "metadata": {},
   "outputs": [],
   "source": [
    "import play_scraper"
   ]
  },
  {
   "cell_type": "code",
   "execution_count": 13,
   "id": "4b237049",
   "metadata": {},
   "outputs": [
    {
     "data": {
      "text/plain": [
       "<sqlite3.Cursor at 0x23014cde110>"
      ]
     },
     "execution_count": 13,
     "metadata": {},
     "output_type": "execute_result"
    }
   ],
   "source": [
    "import sqlite3\n",
    "\n",
    "conn = sqlite3.connect('details111.sqlite')\n",
    "cur = conn.cursor()\n",
    "cur.execute('CREATE TABLE details1 (id VARCHAR PRIMARY KEY,title VARCHAR,icon VARCHAR,screenshots VARCHAR,video VARCHAR,category VARCHAR,score VARCHAR,histogram VARCHAR,reviews VARCHAR,description TEXT,recent_changes VARCHAR,editors_choice VARCHAR,price VARCHAR,free VARCHAR,iap VARCHAR,developer_id VARCHAR,updated VARCHAR,size VARCHAR,installs VARCHAR,current_version VARCHAR,iap_range VARCHAR,interactive_elements VARCHAR,developer VARCHAR,developer_email VARCHAR,required_android_version VARCHAR,developer_url VARCHAR,developer_address VARCHAR,url VARCHAR)')"
   ]
  },
  {
   "cell_type": "code",
   "execution_count": 14,
   "id": "b5d3669f",
   "metadata": {},
   "outputs": [],
   "source": [
    "\n",
    "# data = cur.fetchone()\n",
    "def fetch(ids):\n",
    "#     try:\n",
    "    for i in ids:\n",
    "#             try:\n",
    "        data=play_scraper.details(i)\n",
    "        app_id=data['app_id']\n",
    "        title=data['title']\n",
    "        icon=data['icon']\n",
    "        screenshots=data['screenshots']\n",
    "        video=str(data['video'])\n",
    "        category=data['category']\n",
    "        score=data['score']\n",
    "        histogram=data['histogram']\n",
    "        reviews=data['reviews']\n",
    "        description=str(data['description'])\n",
    "        recent_changes=str(data['recent_changes'])\n",
    "        editors_choice=str(data['editors_choice'])\n",
    "        price=data['price']\n",
    "        free=str(data['free'])\n",
    "        iap=str(data['iap'])\n",
    "        developer_id=data['developer_id']\n",
    "        updated=data['updated']\n",
    "        size=data['size']\n",
    "        installs=data['installs']\n",
    "        current_version=data['current_version']\n",
    "        iap_range=data['iap_range']\n",
    "        interactive_elements=data['interactive_elements']\n",
    "        developer=str(data['developer'])\n",
    "        developer_email=str(data['developer_email'])\n",
    "        required_android_version=str(data['required_android_version'])\n",
    "        developer_url=str(data['developer_url'])\n",
    "        developer_address=str(data['developer_address'])\n",
    "        url=str(data['url'])\n",
    "        strr=''\n",
    "        for i in histogram:\n",
    "            strr=strr+' '+str(i)+' '+str(histogram[i])+\" \"\n",
    "        strr2=''\n",
    "        for i in range(len(screenshots)):\n",
    "            strr2=strr2+' '+screenshots[i] \n",
    "        catt=\"\"\n",
    "        for i in range(len(category)):\n",
    "            catt=catt+\" \"+category[i]\n",
    "        i_e=\"\"\n",
    "        if type(interactive_elements)!=type(None):\n",
    "            for i in range(len(interactive_elements)):\n",
    "                i_e=i_e+\" \"+str(interactive_elements[i])\n",
    "        i_e_p=\"\"\n",
    "        if type(iap_range)!=type(None):\n",
    "            for i in range(len(iap_range)):\n",
    "                i_e_p=i_e_p+\" \"+str(iap_range[i])\n",
    "        str2 = \"\"\"INSERT into details1 (id,title,icon,screenshots,video,category,score,histogram,reviews,description,recent_changes,editors_choice,price,free,iap,developer_id,updated,size,installs,current_version,iap_range,interactive_elements,developer,developer_email,required_android_version,developer_url,developer_address,url) values (?,?,?,?,?,?,?,?,?,?,?,?,?,?,?,?,?,?,?,?,?,?,?,?,?,?,?,?)\"\"\"\n",
    "        valss=(app_id,title,icon,strr2,video,catt,score,strr,reviews,description,recent_changes,editors_choice,price,free,iap,developer_id,updated,size,installs,current_version,i_e_p,i_e,developer,developer_email,required_android_version,developer_url,developer_address,url)\n",
    "                    \n",
    "#         try:\n",
    "#         query = 'INSERT into details22222 (id,title,icon,screenshots,video,category,score,histogram,reviews,description,recent_changes,editors_choice,price,free,iap,developer_id,updated,size,installs,current_version,iap_range,interactive_elements,developer,developer_email,required_android_version,developer_url,developer_address,url) values (app_id,title,icon,strr2,video,category,score,strr,reviews,description,recent_changes,editors_choice,price,free,iap,developer_id,updated,size,installs,current_version,iap_range,interactive_elements,developer,developer_email,required_android_version,developer_url,developer_address,url)'\n",
    "#         try:\n",
    "        cur.execute(str2,valss)\n",
    "        conn.commit()\n",
    "        print(\"data inserted\")\n",
    "#         except:\n",
    "#             print(\"inner most \",Exception)\n",
    "#                 except:\n",
    "#                     print(\"inner\",Exception)\n",
    "#             except:\n",
    "#                 print(\"For Loop \",Exception)\n",
    "#     except:\n",
    "#         print('outmost ' , Exception)"
   ]
  },
  {
   "cell_type": "code",
   "execution_count": 15,
   "id": "7b648b2b",
   "metadata": {},
   "outputs": [],
   "source": [
    "id=['nl.wissapp.timestables2','com.education.timestablesandfriends','uk.co.aifactory.tictactoe','com.keesing.android.quarks','boriol.multiplication.tables','com.usm.ubongo','com.playtic.monsternumbers','air.TablasMultiplicarFREE','com.SFGames.MathAdventure']"
   ]
  },
  {
   "cell_type": "code",
   "execution_count": 16,
   "id": "f1ccb1d7",
   "metadata": {},
   "outputs": [
    {
     "name": "stdout",
     "output_type": "stream",
     "text": [
      "data inserted\n",
      "data inserted\n",
      "data inserted\n",
      "data inserted\n",
      "data inserted\n",
      "data inserted\n",
      "data inserted\n",
      "data inserted\n",
      "data inserted\n"
     ]
    }
   ],
   "source": [
    "fetch(id)"
   ]
  },
  {
   "cell_type": "code",
   "execution_count": null,
   "id": "1986d267",
   "metadata": {},
   "outputs": [],
   "source": []
  },
  {
   "cell_type": "code",
   "execution_count": 15,
   "id": "0874ff6c",
   "metadata": {},
   "outputs": [],
   "source": [
    "\n",
    "# data = cur.fetchone()\n",
    "def fetch(ids):\n",
    "    try:\n",
    "        for i in ids:\n",
    "            try:\n",
    "                data=play_scraper.details(i)\n",
    "                app_id=data['app_id']\n",
    "                title=data['title']\n",
    "                icon=data['icon']\n",
    "                screenshots=data['screenshots']\n",
    "                video=str(data['video'])\n",
    "                category=data['category']\n",
    "                score=data['score']\n",
    "                histogram=data['histogram']\n",
    "                reviews=data['reviews']\n",
    "                description=str(data['description'])\n",
    "                recent_changes=str(data['recent_changes'])\n",
    "                editors_choice=str(data['editors_choice'])\n",
    "                price=data['price']\n",
    "                free=str(data['free'])\n",
    "                iap=str(data['iap'])\n",
    "                developer_id=data['developer_id']\n",
    "                updated=data['updated']\n",
    "                size=data['size']\n",
    "                installs=data['installs']\n",
    "                current_version=data['current_version']\n",
    "                iap_range=data['iap_range']\n",
    "                interactive_elements=data['interactive_elements']\n",
    "                developer=str(data['developer'])\n",
    "                developer_email=str(data['developer_email'])\n",
    "                required_android_version=str(data['required_android_version'])\n",
    "                developer_url=str(data['developer_url'])\n",
    "                developer_address=str(data['developer_address'])\n",
    "                url=str(data['url'])\n",
    "                strr=''\n",
    "                for k in histogram:\n",
    "                    strr=strr+' '+str(k)+' '+str(histogram[k])+\" \"\n",
    "                strr2=''\n",
    "                for k in range(len(screenshots)):\n",
    "                    strr2=strr2+' '+screenshots[k] \n",
    "                catt=\"\"\n",
    "                for k in range(len(category)):\n",
    "                    catt=catt+\" \"+category[k]\n",
    "                i_e=\"\"\n",
    "                if type(interactive_elements)!=type(None):\n",
    "                    for k in range(len(interactive_elements)):\n",
    "                        i_e=i_e+\" \"+str(interactive_elements[k])\n",
    "                i_e_p=\"\"\n",
    "                if type(iap_range)!=type(None):\n",
    "                    for k in range(len(iap_range)):\n",
    "                        i_e_p=i_e_p+\" \"+str(iap_range[k])\n",
    "                str2 = \"\"\"INSERT into details2 (id,title,icon,screenshots,video,category,score,histogram,reviews,description,recent_changes,editors_choice,price,free,iap,developer_id,updated,size,installs,current_version,iap_range,interactive_elements,developer,developer_email,required_android_version,developer_url,developer_address,url) values (?,?,?,?,?,?,?,?,?,?,?,?,?,?,?,?,?,?,?,?,?,?,?,?,?,?,?,?)\"\"\"\n",
    "                valss=(app_id,title,icon,strr2,video,catt,score,strr,reviews,description,recent_changes,editors_choice,price,free,iap,developer_id,updated,size,installs,current_version,i_e_p,i_e,developer,developer_email,required_android_version,developer_url,developer_address,url)\n",
    "                try:\n",
    "                    cur.execute(str2,valss)\n",
    "                    print(\"data inserted\")\n",
    "                except:\n",
    "                    print(\"inner most \",Exception)\n",
    "            except:\n",
    "                print(\"For Loop \",Exception)\n",
    "    except:\n",
    "        print('outmost ' , Exception)"
   ]
  },
  {
   "cell_type": "code",
   "execution_count": 16,
   "id": "7de4c71f",
   "metadata": {},
   "outputs": [],
   "source": [
    "id=['nl.wissapp.timestables2','com.education.timestablesandfriends','uk.co.aifactory.tictactoe','com.keesing.android.quarks','boriol.multiplication.tables','com.usm.ubongo','com.playtic.monsternumbers','air.TablasMultiplicarFREE','com.SFGames.MathAdventure']"
   ]
  },
  {
   "cell_type": "code",
   "execution_count": 17,
   "id": "d716127f",
   "metadata": {},
   "outputs": [
    {
     "name": "stdout",
     "output_type": "stream",
     "text": [
      "inner most  <class 'Exception'>\n",
      "inner most  <class 'Exception'>\n",
      "inner most  <class 'Exception'>\n",
      "inner most  <class 'Exception'>\n",
      "inner most  <class 'Exception'>\n",
      "inner most  <class 'Exception'>\n",
      "inner most  <class 'Exception'>\n",
      "inner most  <class 'Exception'>\n",
      "inner most  <class 'Exception'>\n"
     ]
    }
   ],
   "source": [
    "fetch(id)"
   ]
  },
  {
   "cell_type": "code",
   "execution_count": null,
   "id": "26684964",
   "metadata": {},
   "outputs": [],
   "source": []
  }
 ],
 "metadata": {
  "kernelspec": {
   "display_name": "Python 3",
   "language": "python",
   "name": "python3"
  },
  "language_info": {
   "codemirror_mode": {
    "name": "ipython",
    "version": 3
   },
   "file_extension": ".py",
   "mimetype": "text/x-python",
   "name": "python",
   "nbconvert_exporter": "python",
   "pygments_lexer": "ipython3",
   "version": "3.8.5"
  }
 },
 "nbformat": 4,
 "nbformat_minor": 5
}
