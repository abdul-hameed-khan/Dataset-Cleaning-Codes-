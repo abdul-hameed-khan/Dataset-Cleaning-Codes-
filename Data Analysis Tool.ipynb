{
 "cells": [
  {
   "cell_type": "code",
   "execution_count": 1,
   "id": "reliable-diameter",
   "metadata": {},
   "outputs": [],
   "source": [
    "import pandas as pd"
   ]
  },
  {
   "cell_type": "code",
   "execution_count": 2,
   "id": "hungry-negotiation",
   "metadata": {},
   "outputs": [],
   "source": [
    "df = pd.read_csv('_PakWheelss.csv')"
   ]
  },
  {
   "cell_type": "code",
   "execution_count": 3,
   "id": "magnetic-living",
   "metadata": {},
   "outputs": [
    {
     "data": {
      "text/html": [
       "<div>\n",
       "<style scoped>\n",
       "    .dataframe tbody tr th:only-of-type {\n",
       "        vertical-align: middle;\n",
       "    }\n",
       "\n",
       "    .dataframe tbody tr th {\n",
       "        vertical-align: top;\n",
       "    }\n",
       "\n",
       "    .dataframe thead th {\n",
       "        text-align: right;\n",
       "    }\n",
       "</style>\n",
       "<table border=\"1\" class=\"dataframe\">\n",
       "  <thead>\n",
       "    <tr style=\"text-align: right;\">\n",
       "      <th></th>\n",
       "      <th>Unnamed: 0</th>\n",
       "      <th>reviewId</th>\n",
       "      <th>userName</th>\n",
       "      <th>userImage</th>\n",
       "      <th>content</th>\n",
       "      <th>score</th>\n",
       "      <th>thumbsUpCount</th>\n",
       "      <th>reviewCreatedVersion</th>\n",
       "      <th>at</th>\n",
       "      <th>replyContent</th>\n",
       "      <th>repliedAt</th>\n",
       "    </tr>\n",
       "  </thead>\n",
       "  <tbody>\n",
       "    <tr>\n",
       "      <th>0</th>\n",
       "      <td>0</td>\n",
       "      <td>gp:AOqpTOFZSU2x2UAA8Nd88G-IOC94ks_9mBjYwX4n8d4...</td>\n",
       "      <td>Muhammad Waleed Dastgeer</td>\n",
       "      <td>https://play-lh.googleusercontent.com/a-/AOh14...</td>\n",
       "      <td>I love this app but I would like to suggest an...</td>\n",
       "      <td>5</td>\n",
       "      <td>32</td>\n",
       "      <td>11.9.11</td>\n",
       "      <td>2021-07-22 03:29:25</td>\n",
       "      <td>Thank you for your valuable suggestion and fee...</td>\n",
       "      <td>2021-07-23 05:36:44</td>\n",
       "    </tr>\n",
       "    <tr>\n",
       "      <th>1</th>\n",
       "      <td>1</td>\n",
       "      <td>gp:AOqpTOHi5gVXi9v7YPA52th1KMz26iebR7UpSfbq3U9...</td>\n",
       "      <td>Ali Muhammad</td>\n",
       "      <td>https://play-lh.googleusercontent.com/a-/AOh14...</td>\n",
       "      <td>App used to work perfectly before this latest ...</td>\n",
       "      <td>1</td>\n",
       "      <td>4</td>\n",
       "      <td>11.9.12</td>\n",
       "      <td>2021-08-05 09:19:40</td>\n",
       "      <td>Dear Ali Muhammad, Please write to us with you...</td>\n",
       "      <td>2021-08-07 12:53:58</td>\n",
       "    </tr>\n",
       "    <tr>\n",
       "      <th>2</th>\n",
       "      <td>2</td>\n",
       "      <td>gp:AOqpTOHvd07VSt67GqS9xeplfl4jbsgcvzZ9VaFt_V3...</td>\n",
       "      <td>Art By Noman</td>\n",
       "      <td>https://play-lh.googleusercontent.com/a-/AOh14...</td>\n",
       "      <td>Your application is really great, whenever I w...</td>\n",
       "      <td>3</td>\n",
       "      <td>25</td>\n",
       "      <td>11.9.11</td>\n",
       "      <td>2021-07-31 07:35:39</td>\n",
       "      <td>Thank you for your valuable feedback.</td>\n",
       "      <td>2021-07-31 07:44:55</td>\n",
       "    </tr>\n",
       "    <tr>\n",
       "      <th>3</th>\n",
       "      <td>3</td>\n",
       "      <td>gp:AOqpTOG-H4jERScmUGCXeaClz87uLo9FFr4vcDxF-WN...</td>\n",
       "      <td>Muhammad Sajid</td>\n",
       "      <td>https://play-lh.googleusercontent.com/a-/AOh14...</td>\n",
       "      <td>My pakwheels app is not working from last two ...</td>\n",
       "      <td>1</td>\n",
       "      <td>0</td>\n",
       "      <td>11.9.12</td>\n",
       "      <td>2021-08-06 15:08:19</td>\n",
       "      <td>Dear Muhammad Sajid, Please write to us with y...</td>\n",
       "      <td>2021-08-07 06:36:06</td>\n",
       "    </tr>\n",
       "    <tr>\n",
       "      <th>4</th>\n",
       "      <td>4</td>\n",
       "      <td>gp:AOqpTOEgdRX3mL8R_kDVUZQXvgrrb1MZpHZ_8dR7GWx...</td>\n",
       "      <td>pak web</td>\n",
       "      <td>https://play-lh.googleusercontent.com/a/AATXAJ...</td>\n",
       "      <td>This new version is is really doing not well p...</td>\n",
       "      <td>2</td>\n",
       "      <td>21</td>\n",
       "      <td>11.9.11</td>\n",
       "      <td>2021-07-25 09:43:47</td>\n",
       "      <td>Dear Pak web, Please write to us at customersu...</td>\n",
       "      <td>2021-07-26 07:41:23</td>\n",
       "    </tr>\n",
       "  </tbody>\n",
       "</table>\n",
       "</div>"
      ],
      "text/plain": [
       "   Unnamed: 0                                           reviewId  \\\n",
       "0           0  gp:AOqpTOFZSU2x2UAA8Nd88G-IOC94ks_9mBjYwX4n8d4...   \n",
       "1           1  gp:AOqpTOHi5gVXi9v7YPA52th1KMz26iebR7UpSfbq3U9...   \n",
       "2           2  gp:AOqpTOHvd07VSt67GqS9xeplfl4jbsgcvzZ9VaFt_V3...   \n",
       "3           3  gp:AOqpTOG-H4jERScmUGCXeaClz87uLo9FFr4vcDxF-WN...   \n",
       "4           4  gp:AOqpTOEgdRX3mL8R_kDVUZQXvgrrb1MZpHZ_8dR7GWx...   \n",
       "\n",
       "                   userName  \\\n",
       "0  Muhammad Waleed Dastgeer   \n",
       "1              Ali Muhammad   \n",
       "2              Art By Noman   \n",
       "3            Muhammad Sajid   \n",
       "4                   pak web   \n",
       "\n",
       "                                           userImage  \\\n",
       "0  https://play-lh.googleusercontent.com/a-/AOh14...   \n",
       "1  https://play-lh.googleusercontent.com/a-/AOh14...   \n",
       "2  https://play-lh.googleusercontent.com/a-/AOh14...   \n",
       "3  https://play-lh.googleusercontent.com/a-/AOh14...   \n",
       "4  https://play-lh.googleusercontent.com/a/AATXAJ...   \n",
       "\n",
       "                                             content  score  thumbsUpCount  \\\n",
       "0  I love this app but I would like to suggest an...      5             32   \n",
       "1  App used to work perfectly before this latest ...      1              4   \n",
       "2  Your application is really great, whenever I w...      3             25   \n",
       "3  My pakwheels app is not working from last two ...      1              0   \n",
       "4  This new version is is really doing not well p...      2             21   \n",
       "\n",
       "  reviewCreatedVersion                   at  \\\n",
       "0              11.9.11  2021-07-22 03:29:25   \n",
       "1              11.9.12  2021-08-05 09:19:40   \n",
       "2              11.9.11  2021-07-31 07:35:39   \n",
       "3              11.9.12  2021-08-06 15:08:19   \n",
       "4              11.9.11  2021-07-25 09:43:47   \n",
       "\n",
       "                                        replyContent            repliedAt  \n",
       "0  Thank you for your valuable suggestion and fee...  2021-07-23 05:36:44  \n",
       "1  Dear Ali Muhammad, Please write to us with you...  2021-08-07 12:53:58  \n",
       "2              Thank you for your valuable feedback.  2021-07-31 07:44:55  \n",
       "3  Dear Muhammad Sajid, Please write to us with y...  2021-08-07 06:36:06  \n",
       "4  Dear Pak web, Please write to us at customersu...  2021-07-26 07:41:23  "
      ]
     },
     "execution_count": 3,
     "metadata": {},
     "output_type": "execute_result"
    }
   ],
   "source": [
    "df.head()"
   ]
  },
  {
   "cell_type": "code",
   "execution_count": 5,
   "id": "lasting-monitoring",
   "metadata": {},
   "outputs": [
    {
     "data": {
      "text/html": [
       "<div>\n",
       "<style scoped>\n",
       "    .dataframe tbody tr th:only-of-type {\n",
       "        vertical-align: middle;\n",
       "    }\n",
       "\n",
       "    .dataframe tbody tr th {\n",
       "        vertical-align: top;\n",
       "    }\n",
       "\n",
       "    .dataframe thead th {\n",
       "        text-align: right;\n",
       "    }\n",
       "</style>\n",
       "<table border=\"1\" class=\"dataframe\">\n",
       "  <thead>\n",
       "    <tr style=\"text-align: right;\">\n",
       "      <th></th>\n",
       "      <th>Unnamed: 0</th>\n",
       "      <th>score</th>\n",
       "      <th>thumbsUpCount</th>\n",
       "    </tr>\n",
       "  </thead>\n",
       "  <tbody>\n",
       "    <tr>\n",
       "      <th>count</th>\n",
       "      <td>6102.000000</td>\n",
       "      <td>6102.000000</td>\n",
       "      <td>6102.000000</td>\n",
       "    </tr>\n",
       "    <tr>\n",
       "      <th>mean</th>\n",
       "      <td>3050.500000</td>\n",
       "      <td>4.255818</td>\n",
       "      <td>1.547362</td>\n",
       "    </tr>\n",
       "    <tr>\n",
       "      <th>std</th>\n",
       "      <td>1761.640003</td>\n",
       "      <td>1.328866</td>\n",
       "      <td>8.241696</td>\n",
       "    </tr>\n",
       "    <tr>\n",
       "      <th>min</th>\n",
       "      <td>0.000000</td>\n",
       "      <td>1.000000</td>\n",
       "      <td>0.000000</td>\n",
       "    </tr>\n",
       "    <tr>\n",
       "      <th>25%</th>\n",
       "      <td>1525.250000</td>\n",
       "      <td>4.000000</td>\n",
       "      <td>0.000000</td>\n",
       "    </tr>\n",
       "    <tr>\n",
       "      <th>50%</th>\n",
       "      <td>3050.500000</td>\n",
       "      <td>5.000000</td>\n",
       "      <td>0.000000</td>\n",
       "    </tr>\n",
       "    <tr>\n",
       "      <th>75%</th>\n",
       "      <td>4575.750000</td>\n",
       "      <td>5.000000</td>\n",
       "      <td>0.000000</td>\n",
       "    </tr>\n",
       "    <tr>\n",
       "      <th>max</th>\n",
       "      <td>6101.000000</td>\n",
       "      <td>5.000000</td>\n",
       "      <td>184.000000</td>\n",
       "    </tr>\n",
       "  </tbody>\n",
       "</table>\n",
       "</div>"
      ],
      "text/plain": [
       "        Unnamed: 0        score  thumbsUpCount\n",
       "count  6102.000000  6102.000000    6102.000000\n",
       "mean   3050.500000     4.255818       1.547362\n",
       "std    1761.640003     1.328866       8.241696\n",
       "min       0.000000     1.000000       0.000000\n",
       "25%    1525.250000     4.000000       0.000000\n",
       "50%    3050.500000     5.000000       0.000000\n",
       "75%    4575.750000     5.000000       0.000000\n",
       "max    6101.000000     5.000000     184.000000"
      ]
     },
     "execution_count": 5,
     "metadata": {},
     "output_type": "execute_result"
    }
   ],
   "source": [
    "df.describe()"
   ]
  },
  {
   "cell_type": "code",
   "execution_count": 6,
   "id": "decent-greenhouse",
   "metadata": {},
   "outputs": [
    {
     "name": "stdout",
     "output_type": "stream",
     "text": [
      "0       2021-07-23 05:36:44\n",
      "1       2021-08-07 12:53:58\n",
      "2       2021-07-31 07:44:55\n",
      "3       2021-08-07 06:36:06\n",
      "4       2021-07-26 07:41:23\n",
      "               ...         \n",
      "6097                    NaN\n",
      "6098                    NaN\n",
      "6099    2020-08-06 10:39:19\n",
      "6100                    NaN\n",
      "6101                    NaN\n",
      "Name: repliedAt, Length: 6102, dtype: object\n"
     ]
    }
   ],
   "source": [
    "dp = df['repliedAt']\n",
    "print(dp)"
   ]
  },
  {
   "cell_type": "code",
   "execution_count": 7,
   "id": "absolute-portrait",
   "metadata": {},
   "outputs": [],
   "source": [
    "dr = df['replyContent']"
   ]
  },
  {
   "cell_type": "code",
   "execution_count": 8,
   "id": "mounted-barcelona",
   "metadata": {},
   "outputs": [
    {
     "data": {
      "text/html": [
       "<div>\n",
       "<style scoped>\n",
       "    .dataframe tbody tr th:only-of-type {\n",
       "        vertical-align: middle;\n",
       "    }\n",
       "\n",
       "    .dataframe tbody tr th {\n",
       "        vertical-align: top;\n",
       "    }\n",
       "\n",
       "    .dataframe thead th {\n",
       "        text-align: right;\n",
       "    }\n",
       "</style>\n",
       "<table border=\"1\" class=\"dataframe\">\n",
       "  <thead>\n",
       "    <tr style=\"text-align: right;\">\n",
       "      <th></th>\n",
       "      <th>replyContent</th>\n",
       "      <th>repliedAt</th>\n",
       "    </tr>\n",
       "  </thead>\n",
       "  <tbody>\n",
       "    <tr>\n",
       "      <th>0</th>\n",
       "      <td>Thank you for your valuable suggestion and fee...</td>\n",
       "      <td>2021-07-23 05:36:44</td>\n",
       "    </tr>\n",
       "    <tr>\n",
       "      <th>1</th>\n",
       "      <td>Dear Ali Muhammad, Please write to us with you...</td>\n",
       "      <td>2021-08-07 12:53:58</td>\n",
       "    </tr>\n",
       "    <tr>\n",
       "      <th>2</th>\n",
       "      <td>Thank you for your valuable feedback.</td>\n",
       "      <td>2021-07-31 07:44:55</td>\n",
       "    </tr>\n",
       "    <tr>\n",
       "      <th>3</th>\n",
       "      <td>Dear Muhammad Sajid, Please write to us with y...</td>\n",
       "      <td>2021-08-07 06:36:06</td>\n",
       "    </tr>\n",
       "    <tr>\n",
       "      <th>4</th>\n",
       "      <td>Dear Pak web, Please write to us at customersu...</td>\n",
       "      <td>2021-07-26 07:41:23</td>\n",
       "    </tr>\n",
       "    <tr>\n",
       "      <th>...</th>\n",
       "      <td>...</td>\n",
       "      <td>...</td>\n",
       "    </tr>\n",
       "    <tr>\n",
       "      <th>6097</th>\n",
       "      <td>NaN</td>\n",
       "      <td>NaN</td>\n",
       "    </tr>\n",
       "    <tr>\n",
       "      <th>6098</th>\n",
       "      <td>NaN</td>\n",
       "      <td>NaN</td>\n",
       "    </tr>\n",
       "    <tr>\n",
       "      <th>6099</th>\n",
       "      <td>Hi, Toxic Bane hope you’re doing well. We'd lo...</td>\n",
       "      <td>2020-08-06 10:39:19</td>\n",
       "    </tr>\n",
       "    <tr>\n",
       "      <th>6100</th>\n",
       "      <td>NaN</td>\n",
       "      <td>NaN</td>\n",
       "    </tr>\n",
       "    <tr>\n",
       "      <th>6101</th>\n",
       "      <td>NaN</td>\n",
       "      <td>NaN</td>\n",
       "    </tr>\n",
       "  </tbody>\n",
       "</table>\n",
       "<p>6102 rows × 2 columns</p>\n",
       "</div>"
      ],
      "text/plain": [
       "                                           replyContent            repliedAt\n",
       "0     Thank you for your valuable suggestion and fee...  2021-07-23 05:36:44\n",
       "1     Dear Ali Muhammad, Please write to us with you...  2021-08-07 12:53:58\n",
       "2                 Thank you for your valuable feedback.  2021-07-31 07:44:55\n",
       "3     Dear Muhammad Sajid, Please write to us with y...  2021-08-07 06:36:06\n",
       "4     Dear Pak web, Please write to us at customersu...  2021-07-26 07:41:23\n",
       "...                                                 ...                  ...\n",
       "6097                                                NaN                  NaN\n",
       "6098                                                NaN                  NaN\n",
       "6099  Hi, Toxic Bane hope you’re doing well. We'd lo...  2020-08-06 10:39:19\n",
       "6100                                                NaN                  NaN\n",
       "6101                                                NaN                  NaN\n",
       "\n",
       "[6102 rows x 2 columns]"
      ]
     },
     "execution_count": 8,
     "metadata": {},
     "output_type": "execute_result"
    }
   ],
   "source": [
    "df[['replyContent','repliedAt']]"
   ]
  },
  {
   "cell_type": "code",
   "execution_count": 9,
   "id": "injured-abuse",
   "metadata": {},
   "outputs": [
    {
     "data": {
      "text/plain": [
       "0       2021-07-23 05:36:44\n",
       "1       2021-08-07 12:53:58\n",
       "2       2021-07-31 07:44:55\n",
       "3       2021-08-07 06:36:06\n",
       "4       2021-07-26 07:41:23\n",
       "               ...         \n",
       "6097                    NaN\n",
       "6098                    NaN\n",
       "6099    2020-08-06 10:39:19\n",
       "6100                    NaN\n",
       "6101                    NaN\n",
       "Name: repliedAt, Length: 6102, dtype: object"
      ]
     },
     "execution_count": 9,
     "metadata": {},
     "output_type": "execute_result"
    }
   ],
   "source": [
    "df.repliedAt"
   ]
  },
  {
   "cell_type": "code",
   "execution_count": 10,
   "id": "narrow-flashing",
   "metadata": {},
   "outputs": [],
   "source": [
    "dr.to_csv(r'replycontent.txt', header=None, index=None, sep='\\t', mode='a')"
   ]
  },
  {
   "cell_type": "code",
   "execution_count": 11,
   "id": "sufficient-heath",
   "metadata": {},
   "outputs": [
    {
     "name": "stderr",
     "output_type": "stream",
     "text": [
      "[nltk_data] Downloading package punkt to\n",
      "[nltk_data]     C:\\Users\\Zulfiqar\\AppData\\Roaming\\nltk_data...\n",
      "[nltk_data]   Package punkt is already up-to-date!\n"
     ]
    },
    {
     "name": "stdout",
     "output_type": "stream",
     "text": [
      "\n",
      "\n",
      "Scanning the path C:\\Users\\Zulfiqar\\ML Numpy/replycontent.txt ...\n",
      "Pretrained model is set to bert-base-nli-mean-tokens ...\n",
      "Training file validation OK...\n"
     ]
    },
    {
     "data": {
      "application/vnd.jupyter.widget-view+json": {
       "model_id": "ecf2e3d4c76b4fe9952198ad817dacc9",
       "version_major": 2,
       "version_minor": 0
      },
      "text/plain": [
       "Downloading:   0%|          | 0.00/190 [00:00<?, ?B/s]"
      ]
     },
     "metadata": {},
     "output_type": "display_data"
    },
    {
     "ename": "UnicodeDecodeError",
     "evalue": "'charmap' codec can't decode byte 0x9d in position 79250: character maps to <undefined>",
     "output_type": "error",
     "traceback": [
      "\u001b[1;31m---------------------------------------------------------------------------\u001b[0m",
      "\u001b[1;31mUnicodeDecodeError\u001b[0m                        Traceback (most recent call last)",
      "\u001b[1;32m<ipython-input-11-5e9b5a0a1eb9>\u001b[0m in \u001b[0;36m<module>\u001b[1;34m\u001b[0m\n\u001b[0;32m      2\u001b[0m \u001b[1;31m# Make sure the extension is .txt\u001b[0m\u001b[1;33m\u001b[0m\u001b[1;33m\u001b[0m\u001b[1;33m\u001b[0m\u001b[0m\n\u001b[0;32m      3\u001b[0m \u001b[0mmodel\u001b[0m \u001b[1;33m=\u001b[0m \u001b[0mSimilarSentences\u001b[0m\u001b[1;33m(\u001b[0m\u001b[1;34m'replycontent.txt'\u001b[0m\u001b[1;33m,\u001b[0m\u001b[1;34m\"train\"\u001b[0m\u001b[1;33m)\u001b[0m\u001b[1;33m\u001b[0m\u001b[1;33m\u001b[0m\u001b[0m\n\u001b[1;32m----> 4\u001b[1;33m \u001b[0mmodel\u001b[0m\u001b[1;33m.\u001b[0m\u001b[0mtrain\u001b[0m\u001b[1;33m(\u001b[0m\u001b[1;33m)\u001b[0m\u001b[1;33m\u001b[0m\u001b[1;33m\u001b[0m\u001b[0m\n\u001b[0m",
      "\u001b[1;32mE:\\Anaconda\\envs\\ML-Python\\lib\\site-packages\\SimilarSentences\\SimilarSentences.py\u001b[0m in \u001b[0;36mtrain\u001b[1;34m(self, pretrain_model)\u001b[0m\n\u001b[0;32m    142\u001b[0m     \u001b[1;32mdef\u001b[0m \u001b[0mtrain\u001b[0m\u001b[1;33m(\u001b[0m\u001b[0mself\u001b[0m\u001b[1;33m,\u001b[0m \u001b[0mpretrain_model\u001b[0m\u001b[1;33m:\u001b[0m \u001b[0mstr\u001b[0m \u001b[1;33m=\u001b[0m \u001b[1;32mNone\u001b[0m\u001b[1;33m)\u001b[0m\u001b[1;33m:\u001b[0m\u001b[1;33m\u001b[0m\u001b[1;33m\u001b[0m\u001b[0m\n\u001b[0;32m    143\u001b[0m         \u001b[0mmodel\u001b[0m \u001b[1;33m=\u001b[0m \u001b[0mTrainSentences\u001b[0m\u001b[1;33m(\u001b[0m\u001b[0mself\u001b[0m\u001b[1;33m.\u001b[0m\u001b[0mtrain_file\u001b[0m\u001b[1;33m,\u001b[0m \u001b[0mpretrain_model\u001b[0m\u001b[1;33m)\u001b[0m\u001b[1;33m\u001b[0m\u001b[1;33m\u001b[0m\u001b[0m\n\u001b[1;32m--> 144\u001b[1;33m         \u001b[0mmodel\u001b[0m\u001b[1;33m.\u001b[0m\u001b[0mtrain\u001b[0m\u001b[1;33m(\u001b[0m\u001b[1;33m)\u001b[0m\u001b[1;33m\u001b[0m\u001b[1;33m\u001b[0m\u001b[0m\n\u001b[0m\u001b[0;32m    145\u001b[0m \u001b[1;33m\u001b[0m\u001b[0m\n\u001b[0;32m    146\u001b[0m     \u001b[1;32mdef\u001b[0m \u001b[0mcreate_excel\u001b[0m\u001b[1;33m(\u001b[0m\u001b[0mself\u001b[0m\u001b[1;33m,\u001b[0m \u001b[0mdata\u001b[0m\u001b[1;33m)\u001b[0m\u001b[1;33m:\u001b[0m\u001b[1;33m\u001b[0m\u001b[1;33m\u001b[0m\u001b[0m\n",
      "\u001b[1;32mE:\\Anaconda\\envs\\ML-Python\\lib\\site-packages\\SimilarSentences\\TrainSentences.py\u001b[0m in \u001b[0;36mtrain\u001b[1;34m(self)\u001b[0m\n\u001b[0;32m     51\u001b[0m                             handlers=[LoggingHandler()])\n\u001b[0;32m     52\u001b[0m         \u001b[0mmodel\u001b[0m \u001b[1;33m=\u001b[0m \u001b[0mSentenceTransformer\u001b[0m\u001b[1;33m(\u001b[0m\u001b[0mself\u001b[0m\u001b[1;33m.\u001b[0m\u001b[0mpretrain_model\u001b[0m\u001b[1;33m)\u001b[0m\u001b[1;33m\u001b[0m\u001b[1;33m\u001b[0m\u001b[0m\n\u001b[1;32m---> 53\u001b[1;33m         \u001b[0msentences\u001b[0m \u001b[1;33m=\u001b[0m \u001b[0mopen\u001b[0m\u001b[1;33m(\u001b[0m\u001b[0mpath\u001b[0m\u001b[1;33m.\u001b[0m\u001b[0mget\u001b[0m\u001b[1;33m(\u001b[0m\u001b[1;34m'training_set'\u001b[0m\u001b[1;33m)\u001b[0m\u001b[1;33m)\u001b[0m\u001b[1;33m.\u001b[0m\u001b[0mread\u001b[0m\u001b[1;33m(\u001b[0m\u001b[1;33m)\u001b[0m\u001b[1;33m.\u001b[0m\u001b[0msplitlines\u001b[0m\u001b[1;33m(\u001b[0m\u001b[1;33m)\u001b[0m\u001b[1;33m\u001b[0m\u001b[1;33m\u001b[0m\u001b[0m\n\u001b[0m\u001b[0;32m     54\u001b[0m         \u001b[0msentence_embeddings\u001b[0m \u001b[1;33m=\u001b[0m \u001b[0mmodel\u001b[0m\u001b[1;33m.\u001b[0m\u001b[0mencode\u001b[0m\u001b[1;33m(\u001b[0m\u001b[0msentences\u001b[0m\u001b[1;33m)\u001b[0m\u001b[1;33m\u001b[0m\u001b[1;33m\u001b[0m\u001b[0m\n\u001b[0;32m     55\u001b[0m         \u001b[0mvecs\u001b[0m \u001b[1;33m=\u001b[0m \u001b[0mnp\u001b[0m\u001b[1;33m.\u001b[0m\u001b[0mstack\u001b[0m\u001b[1;33m(\u001b[0m\u001b[0msentence_embeddings\u001b[0m\u001b[1;33m)\u001b[0m\u001b[1;33m\u001b[0m\u001b[1;33m\u001b[0m\u001b[0m\n",
      "\u001b[1;32mE:\\Anaconda\\envs\\ML-Python\\lib\\encodings\\cp1252.py\u001b[0m in \u001b[0;36mdecode\u001b[1;34m(self, input, final)\u001b[0m\n\u001b[0;32m     21\u001b[0m \u001b[1;32mclass\u001b[0m \u001b[0mIncrementalDecoder\u001b[0m\u001b[1;33m(\u001b[0m\u001b[0mcodecs\u001b[0m\u001b[1;33m.\u001b[0m\u001b[0mIncrementalDecoder\u001b[0m\u001b[1;33m)\u001b[0m\u001b[1;33m:\u001b[0m\u001b[1;33m\u001b[0m\u001b[1;33m\u001b[0m\u001b[0m\n\u001b[0;32m     22\u001b[0m     \u001b[1;32mdef\u001b[0m \u001b[0mdecode\u001b[0m\u001b[1;33m(\u001b[0m\u001b[0mself\u001b[0m\u001b[1;33m,\u001b[0m \u001b[0minput\u001b[0m\u001b[1;33m,\u001b[0m \u001b[0mfinal\u001b[0m\u001b[1;33m=\u001b[0m\u001b[1;32mFalse\u001b[0m\u001b[1;33m)\u001b[0m\u001b[1;33m:\u001b[0m\u001b[1;33m\u001b[0m\u001b[1;33m\u001b[0m\u001b[0m\n\u001b[1;32m---> 23\u001b[1;33m         \u001b[1;32mreturn\u001b[0m \u001b[0mcodecs\u001b[0m\u001b[1;33m.\u001b[0m\u001b[0mcharmap_decode\u001b[0m\u001b[1;33m(\u001b[0m\u001b[0minput\u001b[0m\u001b[1;33m,\u001b[0m\u001b[0mself\u001b[0m\u001b[1;33m.\u001b[0m\u001b[0merrors\u001b[0m\u001b[1;33m,\u001b[0m\u001b[0mdecoding_table\u001b[0m\u001b[1;33m)\u001b[0m\u001b[1;33m[\u001b[0m\u001b[1;36m0\u001b[0m\u001b[1;33m]\u001b[0m\u001b[1;33m\u001b[0m\u001b[1;33m\u001b[0m\u001b[0m\n\u001b[0m\u001b[0;32m     24\u001b[0m \u001b[1;33m\u001b[0m\u001b[0m\n\u001b[0;32m     25\u001b[0m \u001b[1;32mclass\u001b[0m \u001b[0mStreamWriter\u001b[0m\u001b[1;33m(\u001b[0m\u001b[0mCodec\u001b[0m\u001b[1;33m,\u001b[0m\u001b[0mcodecs\u001b[0m\u001b[1;33m.\u001b[0m\u001b[0mStreamWriter\u001b[0m\u001b[1;33m)\u001b[0m\u001b[1;33m:\u001b[0m\u001b[1;33m\u001b[0m\u001b[1;33m\u001b[0m\u001b[0m\n",
      "\u001b[1;31mUnicodeDecodeError\u001b[0m: 'charmap' codec can't decode byte 0x9d in position 79250: character maps to <undefined>"
     ]
    }
   ],
   "source": [
    "from SimilarSentences import SimilarSentences\n",
    "# Make sure the extension is .txt\n",
    "model = SimilarSentences('replycontent.txt',\"train\")\n",
    "model.train()"
   ]
  },
  {
   "cell_type": "code",
   "execution_count": null,
   "id": "dietary-nerve",
   "metadata": {},
   "outputs": [],
   "source": [
    "from SimilarSentences import SimilarSentences\n",
    "model = SimilarSentences('model.zip',\"predict\")\n",
    "text = 'Thank you for your valuable feedback'\n",
    "simple = model.predict(text, 2, \"simple\")\n",
    "detailed = model.predict(text, 2, \"detailed\")"
   ]
  }
 ],
 "metadata": {
  "kernelspec": {
   "display_name": "Python 3",
   "language": "python",
   "name": "python3"
  },
  "language_info": {
   "codemirror_mode": {
    "name": "ipython",
    "version": 3
   },
   "file_extension": ".py",
   "mimetype": "text/x-python",
   "name": "python",
   "nbconvert_exporter": "python",
   "pygments_lexer": "ipython3",
   "version": "3.8.5"
  }
 },
 "nbformat": 4,
 "nbformat_minor": 5
}
