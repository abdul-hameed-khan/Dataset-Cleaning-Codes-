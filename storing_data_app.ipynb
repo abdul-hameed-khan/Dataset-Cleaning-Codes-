{
 "cells": [
  {
   "cell_type": "code",
   "execution_count": 1,
   "id": "qualified-facial",
   "metadata": {},
   "outputs": [],
   "source": [
    "import pandas as pd\n",
    "import glob\n",
    "import os"
   ]
  },
  {
   "cell_type": "code",
   "execution_count": 5,
   "id": "excited-alias",
   "metadata": {},
   "outputs": [],
   "source": [
    "INPUT_PATH = 'new_dataset'\n",
    "review_length=[]\n",
    "replies_length=[]\n",
    "file_namess=[]\n",
    "for csv_filename in glob.glob(os.path.join(INPUT_PATH, \"*.csv\")):\n",
    "    name, ext = os.path.splitext(os.path.basename(csv_filename))\n",
    "    df = pd.read_csv(csv_filename)\n",
    "    rev=len(df['content'].dropna())\n",
    "    rep=len(df['replyContent'].dropna())\n",
    "    filee=csv_filename\n",
    "    review_length.append(rev)\n",
    "    replies_length.append(rep)\n",
    "    file_namess.append(filee)\n"
   ]
  },
  {
   "cell_type": "code",
   "execution_count": 7,
   "id": "sensitive-comparison",
   "metadata": {},
   "outputs": [],
   "source": [
    "new_file=file_namess\n",
    "new_review_length=review_length\n",
    "new_replies=replies_length\n",
    "newdict={\n",
    "    'Filename':new_file,\n",
    "    'No Of Reviews':new_review_length,\n",
    "    'No of Replies':new_replies,\n",
    "}\n",
    "de=pd.DataFrame(newdict)\n",
    "de.to_csv('new_datast.csv')"
   ]
  },
  {
   "cell_type": "code",
   "execution_count": null,
   "id": "moving-twins",
   "metadata": {},
   "outputs": [],
   "source": []
  }
 ],
 "metadata": {
  "kernelspec": {
   "display_name": "Python 3",
   "language": "python",
   "name": "python3"
  },
  "language_info": {
   "codemirror_mode": {
    "name": "ipython",
    "version": 3
   },
   "file_extension": ".py",
   "mimetype": "text/x-python",
   "name": "python",
   "nbconvert_exporter": "python",
   "pygments_lexer": "ipython3",
   "version": "3.8.5"
  }
 },
 "nbformat": 4,
 "nbformat_minor": 5
}
