{
 "cells": [
  {
   "cell_type": "code",
   "execution_count": 13,
   "id": "supported-swing",
   "metadata": {},
   "outputs": [],
   "source": [
    "import pandas as pd"
   ]
  },
  {
   "cell_type": "code",
   "execution_count": 14,
   "id": "sudden-visit",
   "metadata": {},
   "outputs": [],
   "source": [
    "df = pd.read_csv('online_courses/Telegram.csv')"
   ]
  },
  {
   "cell_type": "code",
   "execution_count": 22,
   "id": "anonymous-hampshire",
   "metadata": {},
   "outputs": [],
   "source": [
    "# array=[]\n",
    "# for i in df.replyContent:\n",
    "#     array.append(i) \n",
    "# print(len(array))"
   ]
  },
  {
   "cell_type": "code",
   "execution_count": 15,
   "id": "corresponding-stuff",
   "metadata": {},
   "outputs": [],
   "source": [
    "new_array=list(dict.fromkeys(df.replyContent))\n",
    "# print(len(new_array))"
   ]
  },
  {
   "cell_type": "code",
   "execution_count": 16,
   "id": "biological-patrick",
   "metadata": {},
   "outputs": [],
   "source": [
    "arr=[]\n",
    "lis=[]\n",
    "for i in new_array:\n",
    "    count=0\n",
    "    for j in df.replyContent:\n",
    "        if i==j:\n",
    "            count=count+1\n",
    "    if count>10:\n",
    "        lis.append(i)\n",
    "        arr.append(count)"
   ]
  },
  {
   "cell_type": "code",
   "execution_count": 6,
   "id": "homeless-grammar",
   "metadata": {},
   "outputs": [],
   "source": [
    "# print(len(lis))\n",
    "# print(lis)"
   ]
  },
  {
   "cell_type": "code",
   "execution_count": 18,
   "id": "infinite-beginning",
   "metadata": {},
   "outputs": [
    {
     "name": "stdout",
     "output_type": "stream",
     "text": [
      "[178, 36, 25, 32, 13, 33, 23]\n"
     ]
    }
   ],
   "source": [
    "print(arr)"
   ]
  },
  {
   "cell_type": "code",
   "execution_count": 8,
   "id": "anonymous-metabolism",
   "metadata": {},
   "outputs": [],
   "source": [
    "# ar=[]\n",
    "# for i in range(len(arr)):\n",
    "#     if arr[i]>5:\n",
    "#         ar.append(new_array[i])\n",
    "# print(ar)\n",
    "# print(len(ar))"
   ]
  },
  {
   "cell_type": "code",
   "execution_count": 19,
   "id": "dangerous-behalf",
   "metadata": {},
   "outputs": [],
   "source": [
    "d={'Sentences':lis,\n",
    "    'Frequency':arr}"
   ]
  },
  {
   "cell_type": "code",
   "execution_count": 20,
   "id": "respective-redhead",
   "metadata": {},
   "outputs": [],
   "source": [
    "# print(d)"
   ]
  },
  {
   "cell_type": "code",
   "execution_count": 21,
   "id": "liquid-anderson",
   "metadata": {},
   "outputs": [],
   "source": [
    "frm = pd.DataFrame(d)\n",
    "frm.to_csv('Telegram_similar_sentences.csv')"
   ]
  },
  {
   "cell_type": "code",
   "execution_count": null,
   "id": "romantic-script",
   "metadata": {},
   "outputs": [],
   "source": []
  }
 ],
 "metadata": {
  "kernelspec": {
   "display_name": "Python 3",
   "language": "python",
   "name": "python3"
  },
  "language_info": {
   "codemirror_mode": {
    "name": "ipython",
    "version": 3
   },
   "file_extension": ".py",
   "mimetype": "text/x-python",
   "name": "python",
   "nbconvert_exporter": "python",
   "pygments_lexer": "ipython3",
   "version": "3.8.5"
  }
 },
 "nbformat": 4,
 "nbformat_minor": 5
}
