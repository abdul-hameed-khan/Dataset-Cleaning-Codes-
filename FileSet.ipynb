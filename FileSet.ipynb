{
 "cells": [
  {
   "cell_type": "code",
   "execution_count": 1,
   "id": "capital-wilderness",
   "metadata": {},
   "outputs": [],
   "source": [
    "import pandas as pd"
   ]
  },
  {
   "cell_type": "code",
   "execution_count": 56,
   "id": "minimal-likelihood",
   "metadata": {},
   "outputs": [
    {
     "name": "stdout",
     "output_type": "stream",
     "text": [
      "0,gp:AOqpTOEPY3MsFd4oNCaLrOlEH-vduWS1lUw_bCq2kGISjPASoRtWzBe6l_uUvLmMV1Z5hmDJlwOpksZTsQtQMW0,Adnan -ul-Haq,https://play-lh.googleusercontent.com/a-/AOh14Gi0o-beQzPGGdCPQszU1z9BxZpT1Qpo2pnSaVX-Ug,Only restaurants option is available and too with very limited food placrs. There is no other option like grocery and medicines. Approximately in the month of January 2021, i placed an order at some restaurant, after waiting for an hour, my order was cancelled by the restaurant. As I had paid in advance an amount of Rs. 1,299/- , that amound was refunded to me in my wallet. As now there are no options of grocery or medicine, i dont know how to get my money back. I dont want to try food any more.,1,12,3.12.4,8/7/2021 12:18,Hey Adnan. Please accept our sincere apologies. Please note that the delivery services are available in Lahore only. Can you please update the order details here or contact us at info@cheetay.pk so that we can have a look into this right away?,8/9/2021 9:32!!@!!Customer Support!!@!!Giving Information!!@!!Apology\n",
      "\n",
      "0\n"
     ]
    }
   ],
   "source": [
    "# f = pd.read_csv(r'C:\\Users\\Zulfiqar\\Desktop\\Comments.csv')\n",
    "# print(f)\n",
    "f = open(\"E:\\\\BCS\\\\FYP\\\\Documents\\\\Presentation 30\\\\testing.txt\",'r',encoding='utf-8')\n",
    "s = f.readlines()\n",
    "print(s[0])\n",
    "print(s[0][0])"
   ]
  },
  {
   "cell_type": "code",
   "execution_count": 69,
   "id": "educational-crowd",
   "metadata": {},
   "outputs": [
    {
     "ename": "SyntaxError",
     "evalue": "invalid syntax (<ipython-input-69-3af2a5266462>, line 9)",
     "output_type": "error",
     "traceback": [
      "\u001b[1;36m  File \u001b[1;32m\"<ipython-input-69-3af2a5266462>\"\u001b[1;36m, line \u001b[1;32m9\u001b[0m\n\u001b[1;33m    if(s[0][i]==',' and s[0][i+1]==' ' and (flag==5 or flag==6 or flag==7 or flag==8 or flag==9 or flag==10):\u001b[0m\n\u001b[1;37m                                                                                                            ^\u001b[0m\n\u001b[1;31mSyntaxError\u001b[0m\u001b[1;31m:\u001b[0m invalid syntax\n"
     ]
    }
   ],
   "source": [
    "# w= s[0].split(',')\n",
    "lis=[]\n",
    "flag=0\n",
    "for i in range(len(s[0])):\n",
    "    if(s[0][i]==','):\n",
    "        flag=flag+1\n",
    "    if (flag==4):\n",
    "        lis.append(s[0][i+1])\n",
    "    if(s[0][i]==',' and s[0][i+1]==' ' and (flag==5 or flag==6 or flag==7 or flag==8 or flag==9 or flag==10):\n",
    "        lis.append(s[0][i])\n",
    "        "
   ]
  },
  {
   "cell_type": "code",
   "execution_count": 68,
   "id": "standard-danger",
   "metadata": {},
   "outputs": [
    {
     "name": "stdout",
     "output_type": "stream",
     "text": [
      "['O', 'n', 'l', 'y', ' ', 'r', 'e', 's', 't', 'a', 'u', 'r', 'a', 'n', 't', 's', ' ', 'o', 'p', 't', 'i', 'o', 'n', ' ', 'i', 's', ' ', 'a', 'v', 'a', 'i', 'l', 'a', 'b', 'l', 'e', ' ', 'a', 'n', 'd', ' ', 't', 'o', 'o', ' ', 'w', 'i', 't', 'h', ' ', 'v', 'e', 'r', 'y', ' ', 'l', 'i', 'm', 'i', 't', 'e', 'd', ' ', 'f', 'o', 'o', 'd', ' ', 'p', 'l', 'a', 'c', 'r', 's', '.', ' ', 'T', 'h', 'e', 'r', 'e', ' ', 'i', 's', ' ', 'n', 'o', ' ', 'o', 't', 'h', 'e', 'r', ' ', 'o', 'p', 't', 'i', 'o', 'n', ' ', 'l', 'i', 'k', 'e', ' ', 'g', 'r', 'o', 'c', 'e', 'r', 'y', ' ', 'a', 'n', 'd', ' ', 'm', 'e', 'd', 'i', 'c', 'i', 'n', 'e', 's', '.', ' ', 'A', 'p', 'p', 'r', 'o', 'x', 'i', 'm', 'a', 't', 'e', 'l', 'y', ' ', 'i', 'n', ' ', 't', 'h', 'e', ' ', 'm', 'o', 'n', 't', 'h', ' ', 'o', 'f', ' ', 'J', 'a', 'n', 'u', 'a', 'r', 'y', ' ', '2', '0', '2', '1', ',', ',', ',', ',', ',', ',']\n"
     ]
    }
   ],
   "source": [
    "print(lis)"
   ]
  },
  {
   "cell_type": "code",
   "execution_count": 5,
   "id": "acknowledged-bargain",
   "metadata": {},
   "outputs": [
    {
     "ename": "AttributeError",
     "evalue": "'Series' object has no attribute 'split'",
     "output_type": "error",
     "traceback": [
      "\u001b[1;31m---------------------------------------------------------------------------\u001b[0m",
      "\u001b[1;31mAttributeError\u001b[0m                            Traceback (most recent call last)",
      "\u001b[1;32m<ipython-input-5-1b3b6612b531>\u001b[0m in \u001b[0;36m<module>\u001b[1;34m\u001b[0m\n\u001b[0;32m      1\u001b[0m \u001b[0mc\u001b[0m \u001b[1;33m=\u001b[0m \u001b[1;33m[\u001b[0m\u001b[1;33m]\u001b[0m\u001b[1;33m\u001b[0m\u001b[1;33m\u001b[0m\u001b[0m\n\u001b[0;32m      2\u001b[0m \u001b[1;32mfor\u001b[0m \u001b[0mi\u001b[0m \u001b[1;32min\u001b[0m \u001b[0mf\u001b[0m\u001b[1;33m.\u001b[0m\u001b[0mComment\u001b[0m\u001b[1;33m:\u001b[0m\u001b[1;33m\u001b[0m\u001b[1;33m\u001b[0m\u001b[0m\n\u001b[1;32m----> 3\u001b[1;33m     \u001b[0mc\u001b[0m\u001b[1;33m.\u001b[0m\u001b[0mappend\u001b[0m\u001b[1;33m(\u001b[0m\u001b[0mf\u001b[0m\u001b[1;33m.\u001b[0m\u001b[0mComment\u001b[0m\u001b[1;33m.\u001b[0m\u001b[0msplit\u001b[0m\u001b[1;33m(\u001b[0m\u001b[1;34m','\u001b[0m\u001b[1;33m)\u001b[0m\u001b[1;33m)\u001b[0m\u001b[1;33m\u001b[0m\u001b[1;33m\u001b[0m\u001b[0m\n\u001b[0m",
      "\u001b[1;32mE:\\Anaconda\\envs\\ML-Python\\lib\\site-packages\\pandas\\core\\generic.py\u001b[0m in \u001b[0;36m__getattr__\u001b[1;34m(self, name)\u001b[0m\n\u001b[0;32m   5460\u001b[0m             \u001b[1;32mif\u001b[0m \u001b[0mself\u001b[0m\u001b[1;33m.\u001b[0m\u001b[0m_info_axis\u001b[0m\u001b[1;33m.\u001b[0m\u001b[0m_can_hold_identifiers_and_holds_name\u001b[0m\u001b[1;33m(\u001b[0m\u001b[0mname\u001b[0m\u001b[1;33m)\u001b[0m\u001b[1;33m:\u001b[0m\u001b[1;33m\u001b[0m\u001b[1;33m\u001b[0m\u001b[0m\n\u001b[0;32m   5461\u001b[0m                 \u001b[1;32mreturn\u001b[0m \u001b[0mself\u001b[0m\u001b[1;33m[\u001b[0m\u001b[0mname\u001b[0m\u001b[1;33m]\u001b[0m\u001b[1;33m\u001b[0m\u001b[1;33m\u001b[0m\u001b[0m\n\u001b[1;32m-> 5462\u001b[1;33m             \u001b[1;32mreturn\u001b[0m \u001b[0mobject\u001b[0m\u001b[1;33m.\u001b[0m\u001b[0m__getattribute__\u001b[0m\u001b[1;33m(\u001b[0m\u001b[0mself\u001b[0m\u001b[1;33m,\u001b[0m \u001b[0mname\u001b[0m\u001b[1;33m)\u001b[0m\u001b[1;33m\u001b[0m\u001b[1;33m\u001b[0m\u001b[0m\n\u001b[0m\u001b[0;32m   5463\u001b[0m \u001b[1;33m\u001b[0m\u001b[0m\n\u001b[0;32m   5464\u001b[0m     \u001b[1;32mdef\u001b[0m \u001b[0m__setattr__\u001b[0m\u001b[1;33m(\u001b[0m\u001b[0mself\u001b[0m\u001b[1;33m,\u001b[0m \u001b[0mname\u001b[0m\u001b[1;33m:\u001b[0m \u001b[0mstr\u001b[0m\u001b[1;33m,\u001b[0m \u001b[0mvalue\u001b[0m\u001b[1;33m)\u001b[0m \u001b[1;33m->\u001b[0m \u001b[1;32mNone\u001b[0m\u001b[1;33m:\u001b[0m\u001b[1;33m\u001b[0m\u001b[1;33m\u001b[0m\u001b[0m\n",
      "\u001b[1;31mAttributeError\u001b[0m: 'Series' object has no attribute 'split'"
     ]
    }
   ],
   "source": [
    "c = []\n",
    "for i in f.Comment:\n",
    "    c.append(f.Comment.split(','))"
   ]
  },
  {
   "cell_type": "code",
   "execution_count": null,
   "id": "ordinary-content",
   "metadata": {},
   "outputs": [],
   "source": []
  }
 ],
 "metadata": {
  "kernelspec": {
   "display_name": "Python 3",
   "language": "python",
   "name": "python3"
  },
  "language_info": {
   "codemirror_mode": {
    "name": "ipython",
    "version": 3
   },
   "file_extension": ".py",
   "mimetype": "text/x-python",
   "name": "python",
   "nbconvert_exporter": "python",
   "pygments_lexer": "ipython3",
   "version": "3.8.5"
  }
 },
 "nbformat": 4,
 "nbformat_minor": 5
}
